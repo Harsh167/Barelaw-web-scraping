{
 "cells": [
  {
   "cell_type": "code",
   "execution_count": 6,
   "metadata": {},
   "outputs": [],
   "source": [
    "#imports\n",
    "import pandas as pd\n",
    "import matplotlib.pyplot as plt\n",
    "import seaborn as sns\n",
    "import os"
   ]
  },
  {
   "cell_type": "code",
   "execution_count": 7,
   "metadata": {},
   "outputs": [],
   "source": [
    "#create a dataframe from csv file\n",
    "\n",
    "cwd = os.getcwd()\n",
    "\n",
    "df = pd.read_csv(cwd+\"/Article_links.csv\", index_col=0)"
   ]
  },
  {
   "cell_type": "code",
   "execution_count": 8,
   "metadata": {},
   "outputs": [
    {
     "data": {
      "text/html": [
       "<div>\n",
       "<style scoped>\n",
       "    .dataframe tbody tr th:only-of-type {\n",
       "        vertical-align: middle;\n",
       "    }\n",
       "\n",
       "    .dataframe tbody tr th {\n",
       "        vertical-align: top;\n",
       "    }\n",
       "\n",
       "    .dataframe thead th {\n",
       "        text-align: right;\n",
       "    }\n",
       "</style>\n",
       "<table border=\"1\" class=\"dataframe\">\n",
       "  <thead>\n",
       "    <tr style=\"text-align: right;\">\n",
       "      <th></th>\n",
       "      <th>title</th>\n",
       "      <th>link</th>\n",
       "    </tr>\n",
       "  </thead>\n",
       "  <tbody>\n",
       "    <tr>\n",
       "      <th>0</th>\n",
       "      <td>\\n\\nAPPLICATION UNDER SECTION 9 OF THE CODE OF...</td>\n",
       "      <td>https://www.barelaw.in/application-under-secti...</td>\n",
       "    </tr>\n",
       "    <tr>\n",
       "      <th>1</th>\n",
       "      <td>\\n\\nAPPLICATION UNDER SECTION 5/9 CODE OF CIVI...</td>\n",
       "      <td>https://www.barelaw.in/application-under-secti...</td>\n",
       "    </tr>\n",
       "    <tr>\n",
       "      <th>2</th>\n",
       "      <td>\\n\\nApplication under Section 5 of Limitation ...</td>\n",
       "      <td>https://www.barelaw.in/application-under-secti...</td>\n",
       "    </tr>\n",
       "    <tr>\n",
       "      <th>3</th>\n",
       "      <td>\\n\\nAPPLICATION UNDER SECTION 4 OF THE CODE OF...</td>\n",
       "      <td>https://www.barelaw.in/application-under-secti...</td>\n",
       "    </tr>\n",
       "    <tr>\n",
       "      <th>4</th>\n",
       "      <td>\\n\\nAPPLICATION UNDER RULE 159 OF THE RAJASTHA...</td>\n",
       "      <td>https://www.barelaw.in/application-under-rule-...</td>\n",
       "    </tr>\n",
       "    <tr>\n",
       "      <th>...</th>\n",
       "      <td>...</td>\n",
       "      <td>...</td>\n",
       "    </tr>\n",
       "    <tr>\n",
       "      <th>195</th>\n",
       "      <td>\\n\\nApplication for Bail before High Court und...</td>\n",
       "      <td>https://www.barelaw.in/application-for-bail-be...</td>\n",
       "    </tr>\n",
       "    <tr>\n",
       "      <th>196</th>\n",
       "      <td>\\n\\nApplication for Anticipatory Bail before S...</td>\n",
       "      <td>https://www.barelaw.in/application-for-anticip...</td>\n",
       "    </tr>\n",
       "    <tr>\n",
       "      <th>197</th>\n",
       "      <td>\\n\\nApplication by an Accused to surrender in ...</td>\n",
       "      <td>https://www.barelaw.in/application-by-an-accus...</td>\n",
       "    </tr>\n",
       "    <tr>\n",
       "      <th>198</th>\n",
       "      <td>\\n\\nAnticipatory Bail Application under Sectio...</td>\n",
       "      <td>https://www.barelaw.in/anticipatory-bail-appli...</td>\n",
       "    </tr>\n",
       "    <tr>\n",
       "      <th>199</th>\n",
       "      <td>\\n\\nApplication for Anticipatory Bail before H...</td>\n",
       "      <td>https://www.barelaw.in/application-for-anticip...</td>\n",
       "    </tr>\n",
       "  </tbody>\n",
       "</table>\n",
       "<p>200 rows × 2 columns</p>\n",
       "</div>"
      ],
      "text/plain": [
       "                                                 title  \\\n",
       "0    \\n\\nAPPLICATION UNDER SECTION 9 OF THE CODE OF...   \n",
       "1    \\n\\nAPPLICATION UNDER SECTION 5/9 CODE OF CIVI...   \n",
       "2    \\n\\nApplication under Section 5 of Limitation ...   \n",
       "3    \\n\\nAPPLICATION UNDER SECTION 4 OF THE CODE OF...   \n",
       "4    \\n\\nAPPLICATION UNDER RULE 159 OF THE RAJASTHA...   \n",
       "..                                                 ...   \n",
       "195  \\n\\nApplication for Bail before High Court und...   \n",
       "196  \\n\\nApplication for Anticipatory Bail before S...   \n",
       "197  \\n\\nApplication by an Accused to surrender in ...   \n",
       "198  \\n\\nAnticipatory Bail Application under Sectio...   \n",
       "199  \\n\\nApplication for Anticipatory Bail before H...   \n",
       "\n",
       "                                                  link  \n",
       "0    https://www.barelaw.in/application-under-secti...  \n",
       "1    https://www.barelaw.in/application-under-secti...  \n",
       "2    https://www.barelaw.in/application-under-secti...  \n",
       "3    https://www.barelaw.in/application-under-secti...  \n",
       "4    https://www.barelaw.in/application-under-rule-...  \n",
       "..                                                 ...  \n",
       "195  https://www.barelaw.in/application-for-bail-be...  \n",
       "196  https://www.barelaw.in/application-for-anticip...  \n",
       "197  https://www.barelaw.in/application-by-an-accus...  \n",
       "198  https://www.barelaw.in/anticipatory-bail-appli...  \n",
       "199  https://www.barelaw.in/application-for-anticip...  \n",
       "\n",
       "[200 rows x 2 columns]"
      ]
     },
     "execution_count": 8,
     "metadata": {},
     "output_type": "execute_result"
    }
   ],
   "source": [
    "df"
   ]
  },
  {
   "cell_type": "code",
   "execution_count": 10,
   "metadata": {},
   "outputs": [
    {
     "name": "stdout",
     "output_type": "stream",
     "text": [
      "<class 'pandas.core.frame.DataFrame'>\n",
      "Int64Index: 200 entries, 0 to 199\n",
      "Data columns (total 2 columns):\n",
      " #   Column  Non-Null Count  Dtype \n",
      "---  ------  --------------  ----- \n",
      " 0   title   200 non-null    object\n",
      " 1   link    200 non-null    object\n",
      "dtypes: object(2)\n",
      "memory usage: 4.7+ KB\n"
     ]
    }
   ],
   "source": [
    "df.info()"
   ]
  },
  {
   "cell_type": "code",
   "execution_count": 14,
   "metadata": {},
   "outputs": [],
   "source": [
    "df.title = df.title.str.strip(\"\\n\\n\")"
   ]
  },
  {
   "cell_type": "code",
   "execution_count": 16,
   "metadata": {},
   "outputs": [
    {
     "data": {
      "text/html": [
       "<div>\n",
       "<style scoped>\n",
       "    .dataframe tbody tr th:only-of-type {\n",
       "        vertical-align: middle;\n",
       "    }\n",
       "\n",
       "    .dataframe tbody tr th {\n",
       "        vertical-align: top;\n",
       "    }\n",
       "\n",
       "    .dataframe thead th {\n",
       "        text-align: right;\n",
       "    }\n",
       "</style>\n",
       "<table border=\"1\" class=\"dataframe\">\n",
       "  <thead>\n",
       "    <tr style=\"text-align: right;\">\n",
       "      <th></th>\n",
       "      <th>title</th>\n",
       "      <th>link</th>\n",
       "    </tr>\n",
       "  </thead>\n",
       "  <tbody>\n",
       "    <tr>\n",
       "      <th>0</th>\n",
       "      <td>APPLICATION UNDER SECTION 9 OF THE CODE OF CIV...</td>\n",
       "      <td>https://www.barelaw.in/application-under-secti...</td>\n",
       "    </tr>\n",
       "    <tr>\n",
       "      <th>1</th>\n",
       "      <td>APPLICATION UNDER SECTION 5/9 CODE OF CIVIL PR...</td>\n",
       "      <td>https://www.barelaw.in/application-under-secti...</td>\n",
       "    </tr>\n",
       "    <tr>\n",
       "      <th>2</th>\n",
       "      <td>Application under Section 5 of Limitation Act ...</td>\n",
       "      <td>https://www.barelaw.in/application-under-secti...</td>\n",
       "    </tr>\n",
       "    <tr>\n",
       "      <th>3</th>\n",
       "      <td>APPLICATION UNDER SECTION 4 OF THE CODE OF CIV...</td>\n",
       "      <td>https://www.barelaw.in/application-under-secti...</td>\n",
       "    </tr>\n",
       "    <tr>\n",
       "      <th>4</th>\n",
       "      <td>APPLICATION UNDER RULE 159 OF THE RAJASTHAN HI...</td>\n",
       "      <td>https://www.barelaw.in/application-under-rule-...</td>\n",
       "    </tr>\n",
       "  </tbody>\n",
       "</table>\n",
       "</div>"
      ],
      "text/plain": [
       "                                               title  \\\n",
       "0  APPLICATION UNDER SECTION 9 OF THE CODE OF CIV...   \n",
       "1  APPLICATION UNDER SECTION 5/9 CODE OF CIVIL PR...   \n",
       "2  Application under Section 5 of Limitation Act ...   \n",
       "3  APPLICATION UNDER SECTION 4 OF THE CODE OF CIV...   \n",
       "4  APPLICATION UNDER RULE 159 OF THE RAJASTHAN HI...   \n",
       "\n",
       "                                                link  \n",
       "0  https://www.barelaw.in/application-under-secti...  \n",
       "1  https://www.barelaw.in/application-under-secti...  \n",
       "2  https://www.barelaw.in/application-under-secti...  \n",
       "3  https://www.barelaw.in/application-under-secti...  \n",
       "4  https://www.barelaw.in/application-under-rule-...  "
      ]
     },
     "execution_count": 16,
     "metadata": {},
     "output_type": "execute_result"
    }
   ],
   "source": [
    "df.head()"
   ]
  },
  {
   "cell_type": "code",
   "execution_count": 17,
   "metadata": {},
   "outputs": [
    {
     "data": {
      "text/plain": [
       "(200, 2)"
      ]
     },
     "execution_count": 17,
     "metadata": {},
     "output_type": "execute_result"
    }
   ],
   "source": [
    "df.shape"
   ]
  },
  {
   "cell_type": "code",
   "execution_count": 18,
   "metadata": {},
   "outputs": [
    {
     "data": {
      "text/html": [
       "<div>\n",
       "<style scoped>\n",
       "    .dataframe tbody tr th:only-of-type {\n",
       "        vertical-align: middle;\n",
       "    }\n",
       "\n",
       "    .dataframe tbody tr th {\n",
       "        vertical-align: top;\n",
       "    }\n",
       "\n",
       "    .dataframe thead th {\n",
       "        text-align: right;\n",
       "    }\n",
       "</style>\n",
       "<table border=\"1\" class=\"dataframe\">\n",
       "  <thead>\n",
       "    <tr style=\"text-align: right;\">\n",
       "      <th></th>\n",
       "      <th>title</th>\n",
       "      <th>link</th>\n",
       "    </tr>\n",
       "  </thead>\n",
       "  <tbody>\n",
       "    <tr>\n",
       "      <th>0</th>\n",
       "      <td>APPLICATION UNDER SECTION 9 OF THE CODE OF CIV...</td>\n",
       "      <td>https://www.barelaw.in/application-under-secti...</td>\n",
       "    </tr>\n",
       "    <tr>\n",
       "      <th>1</th>\n",
       "      <td>APPLICATION UNDER SECTION 5/9 CODE OF CIVIL PR...</td>\n",
       "      <td>https://www.barelaw.in/application-under-secti...</td>\n",
       "    </tr>\n",
       "    <tr>\n",
       "      <th>2</th>\n",
       "      <td>Application under Section 5 of Limitation Act ...</td>\n",
       "      <td>https://www.barelaw.in/application-under-secti...</td>\n",
       "    </tr>\n",
       "    <tr>\n",
       "      <th>3</th>\n",
       "      <td>APPLICATION UNDER SECTION 4 OF THE CODE OF CIV...</td>\n",
       "      <td>https://www.barelaw.in/application-under-secti...</td>\n",
       "    </tr>\n",
       "    <tr>\n",
       "      <th>4</th>\n",
       "      <td>APPLICATION UNDER RULE 159 OF THE RAJASTHAN HI...</td>\n",
       "      <td>https://www.barelaw.in/application-under-rule-...</td>\n",
       "    </tr>\n",
       "    <tr>\n",
       "      <th>...</th>\n",
       "      <td>...</td>\n",
       "      <td>...</td>\n",
       "    </tr>\n",
       "    <tr>\n",
       "      <th>195</th>\n",
       "      <td>Application for Bail before High Court under s...</td>\n",
       "      <td>https://www.barelaw.in/application-for-bail-be...</td>\n",
       "    </tr>\n",
       "    <tr>\n",
       "      <th>196</th>\n",
       "      <td>Application for Anticipatory Bail before Sessi...</td>\n",
       "      <td>https://www.barelaw.in/application-for-anticip...</td>\n",
       "    </tr>\n",
       "    <tr>\n",
       "      <th>197</th>\n",
       "      <td>Application by an Accused to surrender in the ...</td>\n",
       "      <td>https://www.barelaw.in/application-by-an-accus...</td>\n",
       "    </tr>\n",
       "    <tr>\n",
       "      <th>198</th>\n",
       "      <td>Anticipatory Bail Application under Section 43...</td>\n",
       "      <td>https://www.barelaw.in/anticipatory-bail-appli...</td>\n",
       "    </tr>\n",
       "    <tr>\n",
       "      <th>199</th>\n",
       "      <td>Application for Anticipatory Bail before High ...</td>\n",
       "      <td>https://www.barelaw.in/application-for-anticip...</td>\n",
       "    </tr>\n",
       "  </tbody>\n",
       "</table>\n",
       "<p>200 rows × 2 columns</p>\n",
       "</div>"
      ],
      "text/plain": [
       "                                                 title  \\\n",
       "0    APPLICATION UNDER SECTION 9 OF THE CODE OF CIV...   \n",
       "1    APPLICATION UNDER SECTION 5/9 CODE OF CIVIL PR...   \n",
       "2    Application under Section 5 of Limitation Act ...   \n",
       "3    APPLICATION UNDER SECTION 4 OF THE CODE OF CIV...   \n",
       "4    APPLICATION UNDER RULE 159 OF THE RAJASTHAN HI...   \n",
       "..                                                 ...   \n",
       "195  Application for Bail before High Court under s...   \n",
       "196  Application for Anticipatory Bail before Sessi...   \n",
       "197  Application by an Accused to surrender in the ...   \n",
       "198  Anticipatory Bail Application under Section 43...   \n",
       "199  Application for Anticipatory Bail before High ...   \n",
       "\n",
       "                                                  link  \n",
       "0    https://www.barelaw.in/application-under-secti...  \n",
       "1    https://www.barelaw.in/application-under-secti...  \n",
       "2    https://www.barelaw.in/application-under-secti...  \n",
       "3    https://www.barelaw.in/application-under-secti...  \n",
       "4    https://www.barelaw.in/application-under-rule-...  \n",
       "..                                                 ...  \n",
       "195  https://www.barelaw.in/application-for-bail-be...  \n",
       "196  https://www.barelaw.in/application-for-anticip...  \n",
       "197  https://www.barelaw.in/application-by-an-accus...  \n",
       "198  https://www.barelaw.in/anticipatory-bail-appli...  \n",
       "199  https://www.barelaw.in/application-for-anticip...  \n",
       "\n",
       "[200 rows x 2 columns]"
      ]
     },
     "execution_count": 18,
     "metadata": {},
     "output_type": "execute_result"
    }
   ],
   "source": [
    "#resetting the index\n",
    "df.reset_index(drop=True)"
   ]
  },
  {
   "cell_type": "code",
   "execution_count": 19,
   "metadata": {},
   "outputs": [],
   "source": [
    "# export the cleaned data\n",
    "\n",
    "df.to_csv(cwd + \"/cleaned_article_links.csv\")"
   ]
  }
 ],
 "metadata": {
  "kernelspec": {
   "display_name": "Python 3",
   "language": "python",
   "name": "python3"
  },
  "language_info": {
   "codemirror_mode": {
    "name": "ipython",
    "version": 3
   },
   "file_extension": ".py",
   "mimetype": "text/x-python",
   "name": "python",
   "nbconvert_exporter": "python",
   "pygments_lexer": "ipython3",
   "version": "3.9.13"
  },
  "orig_nbformat": 4
 },
 "nbformat": 4,
 "nbformat_minor": 2
}
